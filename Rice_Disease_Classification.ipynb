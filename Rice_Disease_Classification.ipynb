{
  "nbformat": 4,
  "nbformat_minor": 0,
  "metadata": {
    "colab": {
      "provenance": [],
      "gpuType": "T4"
    },
    "kernelspec": {
      "name": "python3",
      "display_name": "Python 3"
    },
    "language_info": {
      "name": "python"
    },
    "accelerator": "GPU"
  },
  "cells": [
    {
      "cell_type": "code",
      "execution_count": null,
      "metadata": {
        "id": "uf9w86iBI_-X"
      },
      "outputs": [],
      "source": [
        "import numpy as np\n",
        "import pandas as pd\n",
        "import tensorflow as tf\n",
        "from tensorflow.keras.preprocessing.image import ImageDataGenerator\n",
        "import matplotlib.pyplot as plt\n",
        "import cv2\n",
        "import os\n",
        "from sklearn.model_selection import train_test_split"
      ]
    },
    {
      "cell_type": "code",
      "source": [
        "!mkdir ~/.kaggle\n",
        "!cp kaggle.json ~/.kaggle/\n",
        "!chmod 600 ~/.kaggle/kaggle.json"
      ],
      "metadata": {
        "id": "YxodzLYUKJOf"
      },
      "execution_count": null,
      "outputs": []
    },
    {
      "cell_type": "code",
      "source": [
        "!kaggle datasets download -d vbookshelf/rice-leaf-diseases\n",
        "!unzip rice-leaf-diseases.zip"
      ],
      "metadata": {
        "colab": {
          "base_uri": "https://localhost:8080/"
        },
        "id": "b41QZ2zBKMT1",
        "outputId": "5bafe3a4-eea2-4de1-a431-3f4f32fee6e0"
      },
      "execution_count": null,
      "outputs": [
        {
          "output_type": "stream",
          "name": "stdout",
          "text": [
            "Dataset URL: https://www.kaggle.com/datasets/vbookshelf/rice-leaf-diseases\n",
            "License(s): unknown\n",
            "Downloading rice-leaf-diseases.zip to /content\n",
            " 74% 27.0M/36.7M [00:00<00:00, 130MB/s] \n",
            "100% 36.7M/36.7M [00:00<00:00, 101MB/s]\n",
            "Archive:  rice-leaf-diseases.zip\n",
            "  inflating: rice_leaf_diseases/Bacterial leaf blight/DSC_0365.JPG  \n",
            "  inflating: rice_leaf_diseases/Bacterial leaf blight/DSC_0366.jpg  \n",
            "  inflating: rice_leaf_diseases/Bacterial leaf blight/DSC_0367.JPG  \n",
            "  inflating: rice_leaf_diseases/Bacterial leaf blight/DSC_0370.jpg  \n",
            "  inflating: rice_leaf_diseases/Bacterial leaf blight/DSC_0372.JPG  \n",
            "  inflating: rice_leaf_diseases/Bacterial leaf blight/DSC_0373.JPG  \n",
            "  inflating: rice_leaf_diseases/Bacterial leaf blight/DSC_0374.JPG  \n",
            "  inflating: rice_leaf_diseases/Bacterial leaf blight/DSC_0375.JPG  \n",
            "  inflating: rice_leaf_diseases/Bacterial leaf blight/DSC_0376.JPG  \n",
            "  inflating: rice_leaf_diseases/Bacterial leaf blight/DSC_0377.JPG  \n",
            "  inflating: rice_leaf_diseases/Bacterial leaf blight/DSC_0378.JPG  \n",
            "  inflating: rice_leaf_diseases/Bacterial leaf blight/DSC_0379.JPG  \n",
            "  inflating: rice_leaf_diseases/Bacterial leaf blight/DSC_0380.JPG  \n",
            "  inflating: rice_leaf_diseases/Bacterial leaf blight/DSC_0381.JPG  \n",
            "  inflating: rice_leaf_diseases/Bacterial leaf blight/DSC_0382.JPG  \n",
            "  inflating: rice_leaf_diseases/Bacterial leaf blight/DSC_0383.JPG  \n",
            "  inflating: rice_leaf_diseases/Bacterial leaf blight/DSC_0384.JPG  \n",
            "  inflating: rice_leaf_diseases/Bacterial leaf blight/DSC_0385.jpg  \n",
            "  inflating: rice_leaf_diseases/Bacterial leaf blight/DSC_0386.JPG  \n",
            "  inflating: rice_leaf_diseases/Bacterial leaf blight/DSC_0388.JPG  \n",
            "  inflating: rice_leaf_diseases/Bacterial leaf blight/DSC_0389.JPG  \n",
            "  inflating: rice_leaf_diseases/Bacterial leaf blight/DSC_0390.JPG  \n",
            "  inflating: rice_leaf_diseases/Bacterial leaf blight/DSC_0392.JPG  \n",
            "  inflating: rice_leaf_diseases/Bacterial leaf blight/DSC_0393.JPG  \n",
            "  inflating: rice_leaf_diseases/Bacterial leaf blight/DSC_0395.JPG  \n",
            "  inflating: rice_leaf_diseases/Bacterial leaf blight/DSC_0396.JPG  \n",
            "  inflating: rice_leaf_diseases/Bacterial leaf blight/DSC_0397.JPG  \n",
            "  inflating: rice_leaf_diseases/Bacterial leaf blight/DSC_0398.JPG  \n",
            "  inflating: rice_leaf_diseases/Bacterial leaf blight/DSC_0399.JPG  \n",
            "  inflating: rice_leaf_diseases/Bacterial leaf blight/DSC_0400.JPG  \n",
            "  inflating: rice_leaf_diseases/Bacterial leaf blight/DSC_0401.JPG  \n",
            "  inflating: rice_leaf_diseases/Bacterial leaf blight/DSC_0402.JPG  \n",
            "  inflating: rice_leaf_diseases/Bacterial leaf blight/DSC_0403.JPG  \n",
            "  inflating: rice_leaf_diseases/Bacterial leaf blight/DSC_0404.JPG  \n",
            "  inflating: rice_leaf_diseases/Bacterial leaf blight/DSC_0405.JPG  \n",
            "  inflating: rice_leaf_diseases/Bacterial leaf blight/DSC_0406.JPG  \n",
            "  inflating: rice_leaf_diseases/Bacterial leaf blight/DSC_0700.jpg  \n",
            "  inflating: rice_leaf_diseases/Bacterial leaf blight/DSC_0701.jpg  \n",
            "  inflating: rice_leaf_diseases/Bacterial leaf blight/DSC_0702.jpg  \n",
            "  inflating: rice_leaf_diseases/Bacterial leaf blight/DSC_0703.JPG  \n",
            "  inflating: rice_leaf_diseases/Brown spot/DSC_0100.jpg  \n",
            "  inflating: rice_leaf_diseases/Brown spot/DSC_0101.jpg  \n",
            "  inflating: rice_leaf_diseases/Brown spot/DSC_0104.jpg  \n",
            "  inflating: rice_leaf_diseases/Brown spot/DSC_0105.jpg  \n",
            "  inflating: rice_leaf_diseases/Brown spot/DSC_0106.jpg  \n",
            "  inflating: rice_leaf_diseases/Brown spot/DSC_0107.jpg  \n",
            "  inflating: rice_leaf_diseases/Brown spot/DSC_0108.jpg  \n",
            "  inflating: rice_leaf_diseases/Brown spot/DSC_0109.jpg  \n",
            "  inflating: rice_leaf_diseases/Brown spot/DSC_0110.jpg  \n",
            "  inflating: rice_leaf_diseases/Brown spot/DSC_0111.jpg  \n",
            "  inflating: rice_leaf_diseases/Brown spot/DSC_0112.jpg  \n",
            "  inflating: rice_leaf_diseases/Brown spot/DSC_0113.jpg  \n",
            "  inflating: rice_leaf_diseases/Brown spot/DSC_0114.jpg  \n",
            "  inflating: rice_leaf_diseases/Brown spot/DSC_0115.jpg  \n",
            "  inflating: rice_leaf_diseases/Brown spot/DSC_0116.jpg  \n",
            "  inflating: rice_leaf_diseases/Brown spot/DSC_0117.jpg  \n",
            "  inflating: rice_leaf_diseases/Brown spot/DSC_0118.jpg  \n",
            "  inflating: rice_leaf_diseases/Brown spot/DSC_0119.jpg  \n",
            "  inflating: rice_leaf_diseases/Brown spot/DSC_0121.jpg  \n",
            "  inflating: rice_leaf_diseases/Brown spot/DSC_0292.JPG  \n",
            "  inflating: rice_leaf_diseases/Brown spot/DSC_0295.JPG  \n",
            "  inflating: rice_leaf_diseases/Brown spot/DSC_0296.jpg  \n",
            "  inflating: rice_leaf_diseases/Brown spot/DSC_0299.JPG  \n",
            "  inflating: rice_leaf_diseases/Brown spot/DSC_0300.JPG  \n",
            "  inflating: rice_leaf_diseases/Brown spot/DSC_0301.JPG  \n",
            "  inflating: rice_leaf_diseases/Brown spot/DSC_0302.JPG  \n",
            "  inflating: rice_leaf_diseases/Brown spot/DSC_0303.JPG  \n",
            "  inflating: rice_leaf_diseases/Brown spot/DSC_0304.JPG  \n",
            "  inflating: rice_leaf_diseases/Brown spot/DSC_0305.JPG  \n",
            "  inflating: rice_leaf_diseases/Brown spot/DSC_0306.JPG  \n",
            "  inflating: rice_leaf_diseases/Brown spot/DSC_0307.JPG  \n",
            "  inflating: rice_leaf_diseases/Brown spot/DSC_0323.JPG  \n",
            "  inflating: rice_leaf_diseases/Brown spot/DSC_0324.JPG  \n",
            "  inflating: rice_leaf_diseases/Brown spot/DSC_0325.JPG  \n",
            "  inflating: rice_leaf_diseases/Brown spot/DSC_0329.jpg  \n",
            "  inflating: rice_leaf_diseases/Brown spot/DSC_0332.JPG  \n",
            "  inflating: rice_leaf_diseases/Brown spot/DSC_0333.JPG  \n",
            "  inflating: rice_leaf_diseases/Brown spot/DSC_0337.JPG  \n",
            "  inflating: rice_leaf_diseases/Brown spot/DSC_0391.jpg  \n",
            "  inflating: rice_leaf_diseases/Brown spot/DSC_0394.jpg  \n",
            "  inflating: rice_leaf_diseases/Leaf smut/DSC_0293.JPG  \n",
            "  inflating: rice_leaf_diseases/Leaf smut/DSC_0308.JPG  \n",
            "  inflating: rice_leaf_diseases/Leaf smut/DSC_0309.JPG  \n",
            "  inflating: rice_leaf_diseases/Leaf smut/DSC_0310.JPG  \n",
            "  inflating: rice_leaf_diseases/Leaf smut/DSC_0312.JPG  \n",
            "  inflating: rice_leaf_diseases/Leaf smut/DSC_0313.JPG  \n",
            "  inflating: rice_leaf_diseases/Leaf smut/DSC_0314.JPG  \n",
            "  inflating: rice_leaf_diseases/Leaf smut/DSC_0315.jpg  \n",
            "  inflating: rice_leaf_diseases/Leaf smut/DSC_0316.JPG  \n",
            "  inflating: rice_leaf_diseases/Leaf smut/DSC_0317.JPG  \n",
            "  inflating: rice_leaf_diseases/Leaf smut/DSC_0318.JPG  \n",
            "  inflating: rice_leaf_diseases/Leaf smut/DSC_0319.jpg  \n",
            "  inflating: rice_leaf_diseases/Leaf smut/DSC_0320.JPG  \n",
            "  inflating: rice_leaf_diseases/Leaf smut/DSC_0321.JPG  \n",
            "  inflating: rice_leaf_diseases/Leaf smut/DSC_0322.jpg  \n",
            "  inflating: rice_leaf_diseases/Leaf smut/DSC_0327.JPG  \n",
            "  inflating: rice_leaf_diseases/Leaf smut/DSC_0328.jpg  \n",
            "  inflating: rice_leaf_diseases/Leaf smut/DSC_0330.jpg  \n",
            "  inflating: rice_leaf_diseases/Leaf smut/DSC_0331.JPG  \n",
            "  inflating: rice_leaf_diseases/Leaf smut/DSC_0335.JPG  \n",
            "  inflating: rice_leaf_diseases/Leaf smut/DSC_0336.jpg  \n",
            "  inflating: rice_leaf_diseases/Leaf smut/DSC_0338.JPG  \n",
            "  inflating: rice_leaf_diseases/Leaf smut/DSC_0339.jpg  \n",
            "  inflating: rice_leaf_diseases/Leaf smut/DSC_0500.jpg  \n",
            "  inflating: rice_leaf_diseases/Leaf smut/DSC_0501.jpg  \n",
            "  inflating: rice_leaf_diseases/Leaf smut/DSC_0502.jpg  \n",
            "  inflating: rice_leaf_diseases/Leaf smut/DSC_0503.jpg  \n",
            "  inflating: rice_leaf_diseases/Leaf smut/DSC_0504.jpg  \n",
            "  inflating: rice_leaf_diseases/Leaf smut/DSC_0505.jpg  \n",
            "  inflating: rice_leaf_diseases/Leaf smut/DSC_0506.jpg  \n",
            "  inflating: rice_leaf_diseases/Leaf smut/DSC_0507.jpg  \n",
            "  inflating: rice_leaf_diseases/Leaf smut/DSC_0508.jpg  \n",
            "  inflating: rice_leaf_diseases/Leaf smut/DSC_0509.jpg  \n",
            "  inflating: rice_leaf_diseases/Leaf smut/DSC_0510.jpg  \n",
            "  inflating: rice_leaf_diseases/Leaf smut/DSC_0511.jpg  \n",
            "  inflating: rice_leaf_diseases/Leaf smut/DSC_0512.jpg  \n",
            "  inflating: rice_leaf_diseases/Leaf smut/DSC_0513.jpg  \n",
            "  inflating: rice_leaf_diseases/Leaf smut/DSC_0514.jpg  \n",
            "  inflating: rice_leaf_diseases/Leaf smut/DSC_0515.jpg  \n",
            "  inflating: rice_leaf_diseases/Leaf smut/DSC_0516.jpg  \n"
          ]
        }
      ]
    },
    {
      "cell_type": "code",
      "source": [
        "data_dir = 'rice_leaf_diseases'"
      ],
      "metadata": {
        "id": "uDCoh4B5KRjO"
      },
      "execution_count": null,
      "outputs": []
    },
    {
      "cell_type": "code",
      "source": [
        "# Parameters\n",
        "img_size = 224\n",
        "batch_size = 32\n",
        "\n",
        "# Create data generators for training and validation\n",
        "datagen = ImageDataGenerator(\n",
        "    rescale=1./255,\n",
        "    validation_split=0.2,\n",
        "    rotation_range=20,\n",
        "    width_shift_range=0.2,\n",
        "    height_shift_range=0.2,\n",
        "    shear_range=0.2,\n",
        "    zoom_range=0.2,\n",
        "    horizontal_flip=True\n",
        ")\n",
        "\n",
        "train_generator = datagen.flow_from_directory(\n",
        "    data_dir,\n",
        "    target_size=(img_size, img_size),\n",
        "    batch_size=batch_size,\n",
        "    class_mode='categorical',\n",
        "    subset='training'\n",
        ")\n",
        "\n",
        "val_generator = datagen.flow_from_directory(\n",
        "    data_dir,\n",
        "    target_size=(img_size, img_size),\n",
        "    batch_size=batch_size,\n",
        "    class_mode='categorical',\n",
        "    subset='validation'\n",
        ")"
      ],
      "metadata": {
        "colab": {
          "base_uri": "https://localhost:8080/"
        },
        "id": "ZuS8nG5VKbmu",
        "outputId": "c72a1bb0-349f-42ec-97e6-33740c3678af"
      },
      "execution_count": null,
      "outputs": [
        {
          "output_type": "stream",
          "name": "stdout",
          "text": [
            "Found 96 images belonging to 3 classes.\n",
            "Found 24 images belonging to 3 classes.\n"
          ]
        }
      ]
    },
    {
      "cell_type": "code",
      "source": [
        "from tensorflow.keras import layers, models\n",
        "\n",
        "# Define the CNN model with explicit Input layer\n",
        "model = models.Sequential([\n",
        "    layers.Input(shape=(img_size, img_size, 3)),\n",
        "    layers.Conv2D(32, (3, 3), activation='relu'),\n",
        "    layers.MaxPooling2D(2, 2),\n",
        "\n",
        "    layers.Conv2D(64, (3, 3), activation='relu'),\n",
        "    layers.MaxPooling2D(2, 2),\n",
        "\n",
        "    layers.Conv2D(128, (3, 3), activation='relu'),\n",
        "    layers.MaxPooling2D(2, 2),\n",
        "\n",
        "    layers.Conv2D(256, (3, 3), activation='relu'),\n",
        "    layers.MaxPooling2D(2, 2),\n",
        "\n",
        "    layers.Flatten(),\n",
        "    layers.Dense(512, activation='relu'),\n",
        "    layers.Dropout(0.5),\n",
        "    layers.Dense(train_generator.num_classes, activation='softmax')\n",
        "])"
      ],
      "metadata": {
        "id": "IyT0YBN0KfqI"
      },
      "execution_count": null,
      "outputs": []
    },
    {
      "cell_type": "code",
      "source": [
        "from tensorflow.keras.applications import MobileNetV2\n",
        "base_model = MobileNetV2(weights='imagenet', include_top=False, input_shape=(img_size, img_size, 3))\n",
        "base_model.trainable = False\n",
        "\n",
        "model = models.Sequential([\n",
        "    base_model,\n",
        "    layers.GlobalAveragePooling2D(),\n",
        "    layers.Dense(512, activation='relu'),\n",
        "    layers.Dropout(0.5),\n",
        "    layers.Dense(train_generator.num_classes, activation='softmax')\n",
        "])"
      ],
      "metadata": {
        "colab": {
          "base_uri": "https://localhost:8080/"
        },
        "id": "wLiwaEJPFVsP",
        "outputId": "783df142-ccc1-4d40-e68e-b1f1c335a10b"
      },
      "execution_count": null,
      "outputs": [
        {
          "output_type": "stream",
          "name": "stdout",
          "text": [
            "Downloading data from https://storage.googleapis.com/tensorflow/keras-applications/mobilenet_v2/mobilenet_v2_weights_tf_dim_ordering_tf_kernels_1.0_224_no_top.h5\n",
            "\u001b[1m9406464/9406464\u001b[0m \u001b[32m━━━━━━━━━━━━━━━━━━━━\u001b[0m\u001b[37m\u001b[0m \u001b[1m0s\u001b[0m 0us/step\n"
          ]
        }
      ]
    },
    {
      "cell_type": "code",
      "source": [
        "model.compile(optimizer='adam', loss='categorical_crossentropy', metrics=['accuracy'])"
      ],
      "metadata": {
        "id": "HlZDRNhsK1tf"
      },
      "execution_count": null,
      "outputs": []
    },
    {
      "cell_type": "code",
      "source": [
        "history = model.fit(\n",
        "    train_generator,\n",
        "    epochs=8,\n",
        "    validation_data=val_generator\n",
        ")"
      ],
      "metadata": {
        "colab": {
          "base_uri": "https://localhost:8080/"
        },
        "id": "D2wwBfovLPbM",
        "outputId": "48406cab-6e48-4e2a-b457-687d0b9a78f0"
      },
      "execution_count": null,
      "outputs": [
        {
          "output_type": "stream",
          "name": "stdout",
          "text": [
            "Epoch 1/8\n",
            "\u001b[1m3/3\u001b[0m \u001b[32m━━━━━━━━━━━━━━━━━━━━\u001b[0m\u001b[37m\u001b[0m \u001b[1m8s\u001b[0m 3s/step - accuracy: 0.5729 - loss: 1.6173 - val_accuracy: 0.5417 - val_loss: 0.8048\n",
            "Epoch 2/8\n",
            "\u001b[1m3/3\u001b[0m \u001b[32m━━━━━━━━━━━━━━━━━━━━\u001b[0m\u001b[37m\u001b[0m \u001b[1m4s\u001b[0m 341ms/step - accuracy: 0.6341 - loss: 0.8285 - val_accuracy: 0.7917 - val_loss: 0.4988\n",
            "Epoch 3/8\n",
            "\u001b[1m3/3\u001b[0m \u001b[32m━━━━━━━━━━━━━━━━━━━━\u001b[0m\u001b[37m\u001b[0m \u001b[1m4s\u001b[0m 300ms/step - accuracy: 0.7604 - loss: 0.5470 - val_accuracy: 0.7083 - val_loss: 0.5823\n",
            "Epoch 4/8\n",
            "\u001b[1m3/3\u001b[0m \u001b[32m━━━━━━━━━━━━━━━━━━━━\u001b[0m\u001b[37m\u001b[0m \u001b[1m3s\u001b[0m 357ms/step - accuracy: 0.8620 - loss: 0.4489 - val_accuracy: 0.7500 - val_loss: 0.5969\n",
            "Epoch 5/8\n",
            "\u001b[1m3/3\u001b[0m \u001b[32m━━━━━━━━━━━━━━━━━━━━\u001b[0m\u001b[37m\u001b[0m \u001b[1m6s\u001b[0m 357ms/step - accuracy: 0.7773 - loss: 0.4177 - val_accuracy: 0.7083 - val_loss: 0.6429\n",
            "Epoch 6/8\n",
            "\u001b[1m3/3\u001b[0m \u001b[32m━━━━━━━━━━━━━━━━━━━━\u001b[0m\u001b[37m\u001b[0m \u001b[1m4s\u001b[0m 291ms/step - accuracy: 0.9323 - loss: 0.1750 - val_accuracy: 0.7917 - val_loss: 0.6586\n",
            "Epoch 7/8\n",
            "\u001b[1m3/3\u001b[0m \u001b[32m━━━━━━━━━━━━━━━━━━━━\u001b[0m\u001b[37m\u001b[0m \u001b[1m3s\u001b[0m 290ms/step - accuracy: 0.9102 - loss: 0.1923 - val_accuracy: 0.7500 - val_loss: 0.5113\n",
            "Epoch 8/8\n",
            "\u001b[1m3/3\u001b[0m \u001b[32m━━━━━━━━━━━━━━━━━━━━\u001b[0m\u001b[37m\u001b[0m \u001b[1m3s\u001b[0m 443ms/step - accuracy: 0.9440 - loss: 0.1739 - val_accuracy: 0.8333 - val_loss: 0.3184\n"
          ]
        }
      ]
    },
    {
      "cell_type": "code",
      "source": [
        "# Evaluate the model on validation data\n",
        "val_loss, val_acc = model.evaluate(val_generator)\n",
        "print(f\"Validation Accuracy: {val_acc * 100:.2f}%\")"
      ],
      "metadata": {
        "colab": {
          "base_uri": "https://localhost:8080/"
        },
        "id": "27I7D7kdLV9y",
        "outputId": "fb029450-ea70-4a9a-a0f8-432d030e5a66"
      },
      "execution_count": null,
      "outputs": [
        {
          "output_type": "stream",
          "name": "stdout",
          "text": [
            "\u001b[1m1/1\u001b[0m \u001b[32m━━━━━━━━━━━━━━━━━━━━\u001b[0m\u001b[37m\u001b[0m \u001b[1m1s\u001b[0m 502ms/step - accuracy: 0.7917 - loss: 0.4777\n",
            "Validation Accuracy: 79.17%\n"
          ]
        }
      ]
    },
    {
      "cell_type": "code",
      "source": [
        "# Function to load and preprocess images\n",
        "def load_and_prep_image(filename):\n",
        "    img = cv2.imread(filename)\n",
        "    img = cv2.cvtColor(img, cv2.COLOR_BGR2RGB)\n",
        "    img = cv2.resize(img, (img_size, img_size))\n",
        "    img = np.array(img) / 255.0\n",
        "    return img.reshape(1, img_size, img_size, 3)\n",
        "\n",
        "# Load and predict on an unseen image\n",
        "unseen_image = load_and_prep_image('test.jpg')\n",
        "predictions = model.predict(unseen_image)\n",
        "predicted_class = np.argmax(predictions, axis=-1)\n",
        "\n",
        "class_labels = train_generator.class_indices\n",
        "class_labels = {v: k for k, v in class_labels.items()}\n",
        "\n",
        "print(f\"Predicted class: {class_labels[predicted_class[0]]}\")\n"
      ],
      "metadata": {
        "colab": {
          "base_uri": "https://localhost:8080/"
        },
        "id": "Zi26jBKzLoWV",
        "outputId": "a61cf9a0-6ef4-4951-c89a-d1f878be20f5"
      },
      "execution_count": null,
      "outputs": [
        {
          "output_type": "stream",
          "name": "stdout",
          "text": [
            "\u001b[1m1/1\u001b[0m \u001b[32m━━━━━━━━━━━━━━━━━━━━\u001b[0m\u001b[37m\u001b[0m \u001b[1m4s\u001b[0m 4s/step\n",
            "Predicted class: Brown spot\n"
          ]
        }
      ]
    },
    {
      "cell_type": "code",
      "source": [
        "# Plot training and validation accuracy\n",
        "plt.plot(history.history['accuracy'], label='Train Accuracy')\n",
        "plt.plot(history.history['val_accuracy'], label='Validation Accuracy')\n",
        "plt.xlabel('Epochs')\n",
        "plt.ylabel('Accuracy')\n",
        "plt.legend()\n",
        "plt.show()\n",
        "\n",
        "# Plot training and validation loss\n",
        "plt.plot(history.history['loss'], label='Train Loss')\n",
        "plt.plot(history.history['val_loss'], label='Validation Loss')\n",
        "plt.xlabel('Epochs')\n",
        "plt.ylabel('Loss')\n",
        "plt.legend()\n",
        "plt.show()\n"
      ],
      "metadata": {
        "colab": {
          "base_uri": "https://localhost:8080/",
          "height": 881
        },
        "id": "9RMknC71LzYO",
        "outputId": "c9760537-baad-4ee0-8d4f-85ed746c2faf"
      },
      "execution_count": null,
      "outputs": [
        {
          "output_type": "display_data",
          "data": {
            "text/plain": [
              "<Figure size 640x480 with 1 Axes>"
            ],
            "image/png": "[encoded data removed]"
          },
          "metadata": {}
        },
        {
          "output_type": "display_data",
          "data": {
            "text/plain": [
              "<Figure size 640x480 with 1 Axes>"
            ],
            "image/png": "[encoded data removed]"
          },
          "metadata": {}
        }
      ]
    },
    {
      "cell_type": "code",
      "source": [],
      "metadata": {
        "id": "zw13lWZvL8Xm"
      },
      "execution_count": null,
      "outputs": []
    }
  ]
}